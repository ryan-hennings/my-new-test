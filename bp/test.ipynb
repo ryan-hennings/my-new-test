{
 "cells": [
  {
   "cell_type": "code",
   "execution_count": null,
   "metadata": {},
   "outputs": [],
   "source": [
    "\"\"\"\n",
    "TEST THE MODEL\n",
    "\"\"\"\n",
    "import numpy as np\n",
    "import pandas as pd\n",
    "import sys\n",
    "import mmlibrary as mm\n",
    "import pickle\n",
    "import io\n",
    "import my_utils\n",
    "from sklearn import linear_model\n",
    "from sklearn.metrics import mean_squared_error, r2_score\n",
    "\n",
    "mm.parseArguments(sys.argv)\n",
    "serie = my_utils.read_table_from_file(\"test.csv\")\n",
    "indexc = range(len(serie))\n",
    "x_test1 = pd.DataFrame(dict(x=serie['7oz'].values)).reset_index()\n",
    "x_test2 = pd.DataFrame(dict(x=serie['32oz'].values)).reset_index()\n",
    "x_test = pd.DataFrame(dict(x1=serie['7oz'].values, x2=serie['32oz'].values)).reset_index()\n",
    "\n",
    "y_train = pd.DataFrame(dict(y=serie['profit'].values)).reset_index()\n",
    "y_train = y_train[y_train.columns[1]]\n",
    "\n",
    "regr = my_utils.load_pickled_model_binary()\n",
    "profit = regr.predict(x_test)\n",
    "profit_df = pd.DataFrame(data=profit)\n",
    "profit_predicted = profit_df[profit_df.columns[1]]\n",
    "r2 = r2_score(profit_predicted, y_train)\n",
    "\n",
    "my_utils.write_table_to_file(\"results_df.csv\", profit_df)\n",
    "mm.saveKpiResult(\"r2\", None, r2)\n"
   ]
  }
 ],
 "metadata": {},
 "nbformat": 4,
 "nbformat_minor": 0
}
