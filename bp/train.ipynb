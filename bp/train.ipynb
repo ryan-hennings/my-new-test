{
 "cells": [
  {
   "cell_type": "code",
   "execution_count": null,
   "metadata": {},
   "outputs": [],
   "source": [
    "\"\"\"\n",
    "TRAIN:\n",
    "  supply input data in \"training_data\"\n",
    "  result: writes new model binary\n",
    "\"\"\"\n",
    "import numpy as np\n",
    "import pandas as pd\n",
    "import sys\n",
    "import mmlibrary as mm\n",
    "import my_utils\n",
    "import pickle\n",
    "import io\n",
    "from sklearn import linear_model\n",
    "from sklearn.metrics import mean_squared_error, r2_score\n",
    "\n",
    "\n",
    "mm.parseArguments(sys.argv)\n",
    "serie = my_utils.read_table_from_file(\"train.csv\")\n",
    "x_train = pd.DataFrame(dict(x1=serie['7oz'].values, x2=serie['32oz'].values)).reset_index()\n",
    "y_train = pd.DataFrame(dict(y=serie['profit'].values)).reset_index()\n",
    "\n",
    "regr = linear_model.LinearRegression()\n",
    "regr.fit(x_train, y_train)\n",
    "coef = regr.coef_\n",
    "inter = regr.intercept_\n",
    "\n",
    "buf = io.BytesIO()\n",
    "pickle.dump(regr, buf)\n",
    "mm.newVersion(buf.getvalue())"
   ]
  }
 ],
 "metadata": {},
 "nbformat": 4,
 "nbformat_minor": 0
}
